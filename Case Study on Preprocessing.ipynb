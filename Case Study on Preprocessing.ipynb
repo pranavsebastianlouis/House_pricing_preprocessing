{
 "cells": [
  {
   "cell_type": "code",
   "execution_count": 1,
   "id": "61d78f85-9255-4fc9-97a6-bf97ae870eaf",
   "metadata": {},
   "outputs": [],
   "source": [
    "import pandas as pd\n",
    "import seaborn as sns\n",
    "import matplotlib.pyplot as plt\n",
    "from sklearn.model_selection import train_test_split\n",
    "from sklearn.preprocessing import MinMaxScaler\n",
    "from sklearn.preprocessing import OneHotEncoder\n",
    "from sklearn.preprocessing import LabelEncoder\n",
    "from sklearn.model_selection import train_test_split\n",
    "import numpy as np"
   ]
  },
  {
   "cell_type": "code",
   "execution_count": 2,
   "id": "a0809102-1e26-4939-aa70-e74ceaf5f4a3",
   "metadata": {},
   "outputs": [],
   "source": [
    "df = pd.read_csv('House_pricing.csv',index_col = False)"
   ]
  },
  {
   "cell_type": "code",
   "execution_count": 3,
   "id": "1f410b45-5362-4488-8b89-953aa3f44e78",
   "metadata": {},
   "outputs": [
    {
     "data": {
      "text/html": [
       "<div>\n",
       "<style scoped>\n",
       "    .dataframe tbody tr th:only-of-type {\n",
       "        vertical-align: middle;\n",
       "    }\n",
       "\n",
       "    .dataframe tbody tr th {\n",
       "        vertical-align: top;\n",
       "    }\n",
       "\n",
       "    .dataframe thead th {\n",
       "        text-align: right;\n",
       "    }\n",
       "</style>\n",
       "<table border=\"1\" class=\"dataframe\">\n",
       "  <thead>\n",
       "    <tr style=\"text-align: right;\">\n",
       "      <th></th>\n",
       "      <th>ID</th>\n",
       "      <th>Date House was Sold</th>\n",
       "      <th>Sale Price</th>\n",
       "      <th>No of Bedrooms</th>\n",
       "      <th>No of Bathrooms</th>\n",
       "      <th>Flat Area (in Sqft)</th>\n",
       "      <th>Lot Area (in Sqft)</th>\n",
       "      <th>No of Floors</th>\n",
       "      <th>Waterfront View</th>\n",
       "      <th>No of Times Visited</th>\n",
       "      <th>...</th>\n",
       "      <th>Overall Grade</th>\n",
       "      <th>Area of the House from Basement (in Sqft)</th>\n",
       "      <th>Basement Area (in Sqft)</th>\n",
       "      <th>Age of House (in Years)</th>\n",
       "      <th>Renovated Year</th>\n",
       "      <th>Zipcode</th>\n",
       "      <th>Latitude</th>\n",
       "      <th>Longitude</th>\n",
       "      <th>Living Area after Renovation (in Sqft)</th>\n",
       "      <th>Lot Area after Renovation (in Sqft)</th>\n",
       "    </tr>\n",
       "  </thead>\n",
       "  <tbody>\n",
       "    <tr>\n",
       "      <th>0</th>\n",
       "      <td>7129300520</td>\n",
       "      <td>14 October 2017</td>\n",
       "      <td>221900.0</td>\n",
       "      <td>3</td>\n",
       "      <td>1.00</td>\n",
       "      <td>1180.0</td>\n",
       "      <td>5650.0</td>\n",
       "      <td>1.0</td>\n",
       "      <td>No</td>\n",
       "      <td>NaN</td>\n",
       "      <td>...</td>\n",
       "      <td>7</td>\n",
       "      <td>1180.0</td>\n",
       "      <td>0</td>\n",
       "      <td>63</td>\n",
       "      <td>0</td>\n",
       "      <td>98178.0</td>\n",
       "      <td>47.5112</td>\n",
       "      <td>-122.257</td>\n",
       "      <td>1340.0</td>\n",
       "      <td>5650</td>\n",
       "    </tr>\n",
       "    <tr>\n",
       "      <th>1</th>\n",
       "      <td>6414100192</td>\n",
       "      <td>14 December 2017</td>\n",
       "      <td>538000.0</td>\n",
       "      <td>3</td>\n",
       "      <td>2.25</td>\n",
       "      <td>2570.0</td>\n",
       "      <td>7242.0</td>\n",
       "      <td>2.0</td>\n",
       "      <td>No</td>\n",
       "      <td>NaN</td>\n",
       "      <td>...</td>\n",
       "      <td>7</td>\n",
       "      <td>2170.0</td>\n",
       "      <td>400</td>\n",
       "      <td>67</td>\n",
       "      <td>1991</td>\n",
       "      <td>98125.0</td>\n",
       "      <td>47.7210</td>\n",
       "      <td>-122.319</td>\n",
       "      <td>1690.0</td>\n",
       "      <td>7639</td>\n",
       "    </tr>\n",
       "    <tr>\n",
       "      <th>2</th>\n",
       "      <td>5631500400</td>\n",
       "      <td>15 February 2016</td>\n",
       "      <td>180000.0</td>\n",
       "      <td>2</td>\n",
       "      <td>1.00</td>\n",
       "      <td>770.0</td>\n",
       "      <td>10000.0</td>\n",
       "      <td>1.0</td>\n",
       "      <td>No</td>\n",
       "      <td>NaN</td>\n",
       "      <td>...</td>\n",
       "      <td>6</td>\n",
       "      <td>770.0</td>\n",
       "      <td>0</td>\n",
       "      <td>85</td>\n",
       "      <td>0</td>\n",
       "      <td>98028.0</td>\n",
       "      <td>47.7379</td>\n",
       "      <td>-122.233</td>\n",
       "      <td>2720.0</td>\n",
       "      <td>8062</td>\n",
       "    </tr>\n",
       "    <tr>\n",
       "      <th>3</th>\n",
       "      <td>2487200875</td>\n",
       "      <td>14 December 2017</td>\n",
       "      <td>604000.0</td>\n",
       "      <td>4</td>\n",
       "      <td>3.00</td>\n",
       "      <td>1960.0</td>\n",
       "      <td>5000.0</td>\n",
       "      <td>1.0</td>\n",
       "      <td>No</td>\n",
       "      <td>NaN</td>\n",
       "      <td>...</td>\n",
       "      <td>7</td>\n",
       "      <td>1050.0</td>\n",
       "      <td>910</td>\n",
       "      <td>53</td>\n",
       "      <td>0</td>\n",
       "      <td>98136.0</td>\n",
       "      <td>47.5208</td>\n",
       "      <td>-122.393</td>\n",
       "      <td>1360.0</td>\n",
       "      <td>5000</td>\n",
       "    </tr>\n",
       "    <tr>\n",
       "      <th>4</th>\n",
       "      <td>1954400510</td>\n",
       "      <td>15 February 2016</td>\n",
       "      <td>510000.0</td>\n",
       "      <td>3</td>\n",
       "      <td>2.00</td>\n",
       "      <td>1680.0</td>\n",
       "      <td>8080.0</td>\n",
       "      <td>1.0</td>\n",
       "      <td>No</td>\n",
       "      <td>NaN</td>\n",
       "      <td>...</td>\n",
       "      <td>8</td>\n",
       "      <td>1680.0</td>\n",
       "      <td>0</td>\n",
       "      <td>31</td>\n",
       "      <td>0</td>\n",
       "      <td>98074.0</td>\n",
       "      <td>47.6168</td>\n",
       "      <td>-122.045</td>\n",
       "      <td>1800.0</td>\n",
       "      <td>7503</td>\n",
       "    </tr>\n",
       "  </tbody>\n",
       "</table>\n",
       "<p>5 rows × 21 columns</p>\n",
       "</div>"
      ],
      "text/plain": [
       "           ID Date House was Sold  Sale Price  No of Bedrooms  \\\n",
       "0  7129300520     14 October 2017    221900.0               3   \n",
       "1  6414100192    14 December 2017    538000.0               3   \n",
       "2  5631500400    15 February 2016    180000.0               2   \n",
       "3  2487200875    14 December 2017    604000.0               4   \n",
       "4  1954400510    15 February 2016    510000.0               3   \n",
       "\n",
       "   No of Bathrooms  Flat Area (in Sqft)  Lot Area (in Sqft)  No of Floors  \\\n",
       "0             1.00               1180.0              5650.0           1.0   \n",
       "1             2.25               2570.0              7242.0           2.0   \n",
       "2             1.00                770.0             10000.0           1.0   \n",
       "3             3.00               1960.0              5000.0           1.0   \n",
       "4             2.00               1680.0              8080.0           1.0   \n",
       "\n",
       "  Waterfront View No of Times Visited  ... Overall Grade  \\\n",
       "0              No                 NaN  ...             7   \n",
       "1              No                 NaN  ...             7   \n",
       "2              No                 NaN  ...             6   \n",
       "3              No                 NaN  ...             7   \n",
       "4              No                 NaN  ...             8   \n",
       "\n",
       "   Area of the House from Basement (in Sqft)  Basement Area (in Sqft)  \\\n",
       "0                                     1180.0                        0   \n",
       "1                                     2170.0                      400   \n",
       "2                                      770.0                        0   \n",
       "3                                     1050.0                      910   \n",
       "4                                     1680.0                        0   \n",
       "\n",
       "   Age of House (in Years)  Renovated Year  Zipcode  Latitude  Longitude  \\\n",
       "0                       63               0  98178.0   47.5112   -122.257   \n",
       "1                       67            1991  98125.0   47.7210   -122.319   \n",
       "2                       85               0  98028.0   47.7379   -122.233   \n",
       "3                       53               0  98136.0   47.5208   -122.393   \n",
       "4                       31               0  98074.0   47.6168   -122.045   \n",
       "\n",
       "   Living Area after Renovation (in Sqft)  Lot Area after Renovation (in Sqft)  \n",
       "0                                  1340.0                                 5650  \n",
       "1                                  1690.0                                 7639  \n",
       "2                                  2720.0                                 8062  \n",
       "3                                  1360.0                                 5000  \n",
       "4                                  1800.0                                 7503  \n",
       "\n",
       "[5 rows x 21 columns]"
      ]
     },
     "execution_count": 3,
     "metadata": {},
     "output_type": "execute_result"
    }
   ],
   "source": [
    "df.head()"
   ]
  },
  {
   "cell_type": "code",
   "execution_count": 4,
   "id": "ae599ff7-5123-43db-9bfb-1cc3e5355535",
   "metadata": {},
   "outputs": [
    {
     "data": {
      "text/plain": [
       "(21613, 21)"
      ]
     },
     "execution_count": 4,
     "metadata": {},
     "output_type": "execute_result"
    }
   ],
   "source": [
    "df.shape"
   ]
  },
  {
   "cell_type": "code",
   "execution_count": 5,
   "id": "828263f9-e53c-4329-95ca-50198a1c266b",
   "metadata": {},
   "outputs": [
    {
     "name": "stdout",
     "output_type": "stream",
     "text": [
      "<class 'pandas.core.frame.DataFrame'>\n",
      "RangeIndex: 21613 entries, 0 to 21612\n",
      "Data columns (total 21 columns):\n",
      " #   Column                                     Non-Null Count  Dtype  \n",
      "---  ------                                     --------------  -----  \n",
      " 0   ID                                         21613 non-null  int64  \n",
      " 1   Date House was Sold                        21613 non-null  object \n",
      " 2   Sale Price                                 21609 non-null  float64\n",
      " 3   No of Bedrooms                             21613 non-null  int64  \n",
      " 4   No of Bathrooms                            21609 non-null  float64\n",
      " 5   Flat Area (in Sqft)                        21604 non-null  float64\n",
      " 6   Lot Area (in Sqft)                         21604 non-null  float64\n",
      " 7   No of Floors                               21613 non-null  float64\n",
      " 8   Waterfront View                            21613 non-null  object \n",
      " 9   No of Times Visited                        2124 non-null   object \n",
      " 10  Condition of the House                     21613 non-null  object \n",
      " 11  Overall Grade                              21613 non-null  int64  \n",
      " 12  Area of the House from Basement (in Sqft)  21610 non-null  float64\n",
      " 13  Basement Area (in Sqft)                    21613 non-null  int64  \n",
      " 14  Age of House (in Years)                    21613 non-null  int64  \n",
      " 15  Renovated Year                             21613 non-null  int64  \n",
      " 16  Zipcode                                    21612 non-null  float64\n",
      " 17  Latitude                                   21612 non-null  float64\n",
      " 18  Longitude                                  21612 non-null  float64\n",
      " 19  Living Area after Renovation (in Sqft)     21612 non-null  float64\n",
      " 20  Lot Area after Renovation (in Sqft)        21613 non-null  int64  \n",
      "dtypes: float64(10), int64(7), object(4)\n",
      "memory usage: 3.5+ MB\n"
     ]
    }
   ],
   "source": [
    "df.info()"
   ]
  },
  {
   "cell_type": "code",
   "execution_count": 6,
   "id": "46f5b499-e90f-43ee-9959-ae1e5f47f883",
   "metadata": {},
   "outputs": [
    {
     "data": {
      "text/html": [
       "<div>\n",
       "<style scoped>\n",
       "    .dataframe tbody tr th:only-of-type {\n",
       "        vertical-align: middle;\n",
       "    }\n",
       "\n",
       "    .dataframe tbody tr th {\n",
       "        vertical-align: top;\n",
       "    }\n",
       "\n",
       "    .dataframe thead th {\n",
       "        text-align: right;\n",
       "    }\n",
       "</style>\n",
       "<table border=\"1\" class=\"dataframe\">\n",
       "  <thead>\n",
       "    <tr style=\"text-align: right;\">\n",
       "      <th></th>\n",
       "      <th>ID</th>\n",
       "      <th>Date House was Sold</th>\n",
       "      <th>Sale Price</th>\n",
       "      <th>No of Bedrooms</th>\n",
       "      <th>No of Bathrooms</th>\n",
       "      <th>Flat Area (in Sqft)</th>\n",
       "      <th>Lot Area (in Sqft)</th>\n",
       "      <th>No of Floors</th>\n",
       "      <th>Waterfront View</th>\n",
       "      <th>No of Times Visited</th>\n",
       "      <th>...</th>\n",
       "      <th>Overall Grade</th>\n",
       "      <th>Area of the House from Basement (in Sqft)</th>\n",
       "      <th>Basement Area (in Sqft)</th>\n",
       "      <th>Age of House (in Years)</th>\n",
       "      <th>Renovated Year</th>\n",
       "      <th>Zipcode</th>\n",
       "      <th>Latitude</th>\n",
       "      <th>Longitude</th>\n",
       "      <th>Living Area after Renovation (in Sqft)</th>\n",
       "      <th>Lot Area after Renovation (in Sqft)</th>\n",
       "    </tr>\n",
       "  </thead>\n",
       "  <tbody>\n",
       "    <tr>\n",
       "      <th>count</th>\n",
       "      <td>2.161300e+04</td>\n",
       "      <td>21613</td>\n",
       "      <td>2.160900e+04</td>\n",
       "      <td>21613.000000</td>\n",
       "      <td>21609.000000</td>\n",
       "      <td>21604.000000</td>\n",
       "      <td>2.160400e+04</td>\n",
       "      <td>21613.000000</td>\n",
       "      <td>21613</td>\n",
       "      <td>2124</td>\n",
       "      <td>...</td>\n",
       "      <td>21613.000000</td>\n",
       "      <td>21610.000000</td>\n",
       "      <td>21613.000000</td>\n",
       "      <td>21613.000000</td>\n",
       "      <td>21613.000000</td>\n",
       "      <td>21612.000000</td>\n",
       "      <td>21612.000000</td>\n",
       "      <td>21612.000000</td>\n",
       "      <td>21612.000000</td>\n",
       "      <td>21613.000000</td>\n",
       "    </tr>\n",
       "    <tr>\n",
       "      <th>unique</th>\n",
       "      <td>NaN</td>\n",
       "      <td>13</td>\n",
       "      <td>NaN</td>\n",
       "      <td>NaN</td>\n",
       "      <td>NaN</td>\n",
       "      <td>NaN</td>\n",
       "      <td>NaN</td>\n",
       "      <td>NaN</td>\n",
       "      <td>2</td>\n",
       "      <td>4</td>\n",
       "      <td>...</td>\n",
       "      <td>NaN</td>\n",
       "      <td>NaN</td>\n",
       "      <td>NaN</td>\n",
       "      <td>NaN</td>\n",
       "      <td>NaN</td>\n",
       "      <td>NaN</td>\n",
       "      <td>NaN</td>\n",
       "      <td>NaN</td>\n",
       "      <td>NaN</td>\n",
       "      <td>NaN</td>\n",
       "    </tr>\n",
       "    <tr>\n",
       "      <th>top</th>\n",
       "      <td>NaN</td>\n",
       "      <td>15 April 2016</td>\n",
       "      <td>NaN</td>\n",
       "      <td>NaN</td>\n",
       "      <td>NaN</td>\n",
       "      <td>NaN</td>\n",
       "      <td>NaN</td>\n",
       "      <td>NaN</td>\n",
       "      <td>No</td>\n",
       "      <td>Twice</td>\n",
       "      <td>...</td>\n",
       "      <td>NaN</td>\n",
       "      <td>NaN</td>\n",
       "      <td>NaN</td>\n",
       "      <td>NaN</td>\n",
       "      <td>NaN</td>\n",
       "      <td>NaN</td>\n",
       "      <td>NaN</td>\n",
       "      <td>NaN</td>\n",
       "      <td>NaN</td>\n",
       "      <td>NaN</td>\n",
       "    </tr>\n",
       "    <tr>\n",
       "      <th>freq</th>\n",
       "      <td>NaN</td>\n",
       "      <td>2231</td>\n",
       "      <td>NaN</td>\n",
       "      <td>NaN</td>\n",
       "      <td>NaN</td>\n",
       "      <td>NaN</td>\n",
       "      <td>NaN</td>\n",
       "      <td>NaN</td>\n",
       "      <td>21450</td>\n",
       "      <td>963</td>\n",
       "      <td>...</td>\n",
       "      <td>NaN</td>\n",
       "      <td>NaN</td>\n",
       "      <td>NaN</td>\n",
       "      <td>NaN</td>\n",
       "      <td>NaN</td>\n",
       "      <td>NaN</td>\n",
       "      <td>NaN</td>\n",
       "      <td>NaN</td>\n",
       "      <td>NaN</td>\n",
       "      <td>NaN</td>\n",
       "    </tr>\n",
       "    <tr>\n",
       "      <th>mean</th>\n",
       "      <td>4.580302e+09</td>\n",
       "      <td>NaN</td>\n",
       "      <td>5.401984e+05</td>\n",
       "      <td>3.370842</td>\n",
       "      <td>2.114732</td>\n",
       "      <td>2079.931772</td>\n",
       "      <td>1.510776e+04</td>\n",
       "      <td>1.494309</td>\n",
       "      <td>NaN</td>\n",
       "      <td>NaN</td>\n",
       "      <td>...</td>\n",
       "      <td>7.623467</td>\n",
       "      <td>1788.344193</td>\n",
       "      <td>291.509045</td>\n",
       "      <td>46.994864</td>\n",
       "      <td>84.402258</td>\n",
       "      <td>98077.937766</td>\n",
       "      <td>47.560048</td>\n",
       "      <td>-122.213892</td>\n",
       "      <td>1986.538914</td>\n",
       "      <td>12768.455652</td>\n",
       "    </tr>\n",
       "    <tr>\n",
       "      <th>std</th>\n",
       "      <td>2.876566e+09</td>\n",
       "      <td>NaN</td>\n",
       "      <td>3.673890e+05</td>\n",
       "      <td>0.930062</td>\n",
       "      <td>0.770138</td>\n",
       "      <td>918.487597</td>\n",
       "      <td>4.142827e+04</td>\n",
       "      <td>0.539989</td>\n",
       "      <td>NaN</td>\n",
       "      <td>NaN</td>\n",
       "      <td>...</td>\n",
       "      <td>1.105439</td>\n",
       "      <td>827.982604</td>\n",
       "      <td>442.575043</td>\n",
       "      <td>29.373411</td>\n",
       "      <td>401.679240</td>\n",
       "      <td>53.505425</td>\n",
       "      <td>0.138565</td>\n",
       "      <td>0.140830</td>\n",
       "      <td>685.404255</td>\n",
       "      <td>27304.179631</td>\n",
       "    </tr>\n",
       "    <tr>\n",
       "      <th>min</th>\n",
       "      <td>1.000102e+06</td>\n",
       "      <td>NaN</td>\n",
       "      <td>7.500000e+04</td>\n",
       "      <td>0.000000</td>\n",
       "      <td>0.000000</td>\n",
       "      <td>290.000000</td>\n",
       "      <td>5.200000e+02</td>\n",
       "      <td>1.000000</td>\n",
       "      <td>NaN</td>\n",
       "      <td>NaN</td>\n",
       "      <td>...</td>\n",
       "      <td>1.000000</td>\n",
       "      <td>290.000000</td>\n",
       "      <td>0.000000</td>\n",
       "      <td>3.000000</td>\n",
       "      <td>0.000000</td>\n",
       "      <td>98001.000000</td>\n",
       "      <td>47.155900</td>\n",
       "      <td>-122.519000</td>\n",
       "      <td>399.000000</td>\n",
       "      <td>651.000000</td>\n",
       "    </tr>\n",
       "    <tr>\n",
       "      <th>25%</th>\n",
       "      <td>2.123049e+09</td>\n",
       "      <td>NaN</td>\n",
       "      <td>3.219500e+05</td>\n",
       "      <td>3.000000</td>\n",
       "      <td>1.750000</td>\n",
       "      <td>1429.250000</td>\n",
       "      <td>5.040000e+03</td>\n",
       "      <td>1.000000</td>\n",
       "      <td>NaN</td>\n",
       "      <td>NaN</td>\n",
       "      <td>...</td>\n",
       "      <td>7.000000</td>\n",
       "      <td>1190.000000</td>\n",
       "      <td>0.000000</td>\n",
       "      <td>21.000000</td>\n",
       "      <td>0.000000</td>\n",
       "      <td>98033.000000</td>\n",
       "      <td>47.470975</td>\n",
       "      <td>-122.328000</td>\n",
       "      <td>1490.000000</td>\n",
       "      <td>5100.000000</td>\n",
       "    </tr>\n",
       "    <tr>\n",
       "      <th>50%</th>\n",
       "      <td>3.904930e+09</td>\n",
       "      <td>NaN</td>\n",
       "      <td>4.500000e+05</td>\n",
       "      <td>3.000000</td>\n",
       "      <td>2.250000</td>\n",
       "      <td>1910.000000</td>\n",
       "      <td>7.617500e+03</td>\n",
       "      <td>1.500000</td>\n",
       "      <td>NaN</td>\n",
       "      <td>NaN</td>\n",
       "      <td>...</td>\n",
       "      <td>7.000000</td>\n",
       "      <td>1560.000000</td>\n",
       "      <td>0.000000</td>\n",
       "      <td>43.000000</td>\n",
       "      <td>0.000000</td>\n",
       "      <td>98065.000000</td>\n",
       "      <td>47.571800</td>\n",
       "      <td>-122.230000</td>\n",
       "      <td>1840.000000</td>\n",
       "      <td>7620.000000</td>\n",
       "    </tr>\n",
       "    <tr>\n",
       "      <th>75%</th>\n",
       "      <td>7.308900e+09</td>\n",
       "      <td>NaN</td>\n",
       "      <td>6.450000e+05</td>\n",
       "      <td>4.000000</td>\n",
       "      <td>2.500000</td>\n",
       "      <td>2550.000000</td>\n",
       "      <td>1.068825e+04</td>\n",
       "      <td>2.000000</td>\n",
       "      <td>NaN</td>\n",
       "      <td>NaN</td>\n",
       "      <td>...</td>\n",
       "      <td>8.000000</td>\n",
       "      <td>2210.000000</td>\n",
       "      <td>560.000000</td>\n",
       "      <td>67.000000</td>\n",
       "      <td>0.000000</td>\n",
       "      <td>98118.000000</td>\n",
       "      <td>47.678000</td>\n",
       "      <td>-122.125000</td>\n",
       "      <td>2360.000000</td>\n",
       "      <td>10083.000000</td>\n",
       "    </tr>\n",
       "    <tr>\n",
       "      <th>max</th>\n",
       "      <td>9.900000e+09</td>\n",
       "      <td>NaN</td>\n",
       "      <td>7.700000e+06</td>\n",
       "      <td>33.000000</td>\n",
       "      <td>8.000000</td>\n",
       "      <td>13540.000000</td>\n",
       "      <td>1.651359e+06</td>\n",
       "      <td>3.500000</td>\n",
       "      <td>NaN</td>\n",
       "      <td>NaN</td>\n",
       "      <td>...</td>\n",
       "      <td>10.000000</td>\n",
       "      <td>9410.000000</td>\n",
       "      <td>4820.000000</td>\n",
       "      <td>118.000000</td>\n",
       "      <td>2015.000000</td>\n",
       "      <td>98199.000000</td>\n",
       "      <td>47.777600</td>\n",
       "      <td>-121.315000</td>\n",
       "      <td>6210.000000</td>\n",
       "      <td>871200.000000</td>\n",
       "    </tr>\n",
       "  </tbody>\n",
       "</table>\n",
       "<p>11 rows × 21 columns</p>\n",
       "</div>"
      ],
      "text/plain": [
       "                  ID Date House was Sold    Sale Price  No of Bedrooms  \\\n",
       "count   2.161300e+04               21613  2.160900e+04    21613.000000   \n",
       "unique           NaN                  13           NaN             NaN   \n",
       "top              NaN       15 April 2016           NaN             NaN   \n",
       "freq             NaN                2231           NaN             NaN   \n",
       "mean    4.580302e+09                 NaN  5.401984e+05        3.370842   \n",
       "std     2.876566e+09                 NaN  3.673890e+05        0.930062   \n",
       "min     1.000102e+06                 NaN  7.500000e+04        0.000000   \n",
       "25%     2.123049e+09                 NaN  3.219500e+05        3.000000   \n",
       "50%     3.904930e+09                 NaN  4.500000e+05        3.000000   \n",
       "75%     7.308900e+09                 NaN  6.450000e+05        4.000000   \n",
       "max     9.900000e+09                 NaN  7.700000e+06       33.000000   \n",
       "\n",
       "        No of Bathrooms  Flat Area (in Sqft)  Lot Area (in Sqft)  \\\n",
       "count      21609.000000         21604.000000        2.160400e+04   \n",
       "unique              NaN                  NaN                 NaN   \n",
       "top                 NaN                  NaN                 NaN   \n",
       "freq                NaN                  NaN                 NaN   \n",
       "mean           2.114732          2079.931772        1.510776e+04   \n",
       "std            0.770138           918.487597        4.142827e+04   \n",
       "min            0.000000           290.000000        5.200000e+02   \n",
       "25%            1.750000          1429.250000        5.040000e+03   \n",
       "50%            2.250000          1910.000000        7.617500e+03   \n",
       "75%            2.500000          2550.000000        1.068825e+04   \n",
       "max            8.000000         13540.000000        1.651359e+06   \n",
       "\n",
       "        No of Floors Waterfront View No of Times Visited  ... Overall Grade  \\\n",
       "count   21613.000000           21613                2124  ...  21613.000000   \n",
       "unique           NaN               2                   4  ...           NaN   \n",
       "top              NaN              No               Twice  ...           NaN   \n",
       "freq             NaN           21450                 963  ...           NaN   \n",
       "mean        1.494309             NaN                 NaN  ...      7.623467   \n",
       "std         0.539989             NaN                 NaN  ...      1.105439   \n",
       "min         1.000000             NaN                 NaN  ...      1.000000   \n",
       "25%         1.000000             NaN                 NaN  ...      7.000000   \n",
       "50%         1.500000             NaN                 NaN  ...      7.000000   \n",
       "75%         2.000000             NaN                 NaN  ...      8.000000   \n",
       "max         3.500000             NaN                 NaN  ...     10.000000   \n",
       "\n",
       "        Area of the House from Basement (in Sqft)  Basement Area (in Sqft)  \\\n",
       "count                                21610.000000             21613.000000   \n",
       "unique                                        NaN                      NaN   \n",
       "top                                           NaN                      NaN   \n",
       "freq                                          NaN                      NaN   \n",
       "mean                                  1788.344193               291.509045   \n",
       "std                                    827.982604               442.575043   \n",
       "min                                    290.000000                 0.000000   \n",
       "25%                                   1190.000000                 0.000000   \n",
       "50%                                   1560.000000                 0.000000   \n",
       "75%                                   2210.000000               560.000000   \n",
       "max                                   9410.000000              4820.000000   \n",
       "\n",
       "        Age of House (in Years)  Renovated Year       Zipcode      Latitude  \\\n",
       "count              21613.000000    21613.000000  21612.000000  21612.000000   \n",
       "unique                      NaN             NaN           NaN           NaN   \n",
       "top                         NaN             NaN           NaN           NaN   \n",
       "freq                        NaN             NaN           NaN           NaN   \n",
       "mean                  46.994864       84.402258  98077.937766     47.560048   \n",
       "std                   29.373411      401.679240     53.505425      0.138565   \n",
       "min                    3.000000        0.000000  98001.000000     47.155900   \n",
       "25%                   21.000000        0.000000  98033.000000     47.470975   \n",
       "50%                   43.000000        0.000000  98065.000000     47.571800   \n",
       "75%                   67.000000        0.000000  98118.000000     47.678000   \n",
       "max                  118.000000     2015.000000  98199.000000     47.777600   \n",
       "\n",
       "           Longitude  Living Area after Renovation (in Sqft)  \\\n",
       "count   21612.000000                            21612.000000   \n",
       "unique           NaN                                     NaN   \n",
       "top              NaN                                     NaN   \n",
       "freq             NaN                                     NaN   \n",
       "mean     -122.213892                             1986.538914   \n",
       "std         0.140830                              685.404255   \n",
       "min      -122.519000                              399.000000   \n",
       "25%      -122.328000                             1490.000000   \n",
       "50%      -122.230000                             1840.000000   \n",
       "75%      -122.125000                             2360.000000   \n",
       "max      -121.315000                             6210.000000   \n",
       "\n",
       "        Lot Area after Renovation (in Sqft)  \n",
       "count                          21613.000000  \n",
       "unique                                  NaN  \n",
       "top                                     NaN  \n",
       "freq                                    NaN  \n",
       "mean                           12768.455652  \n",
       "std                            27304.179631  \n",
       "min                              651.000000  \n",
       "25%                             5100.000000  \n",
       "50%                             7620.000000  \n",
       "75%                            10083.000000  \n",
       "max                           871200.000000  \n",
       "\n",
       "[11 rows x 21 columns]"
      ]
     },
     "execution_count": 6,
     "metadata": {},
     "output_type": "execute_result"
    }
   ],
   "source": [
    "df.describe(include = 'all')"
   ]
  },
  {
   "cell_type": "markdown",
   "id": "9ef95788-6e79-426c-8192-147476ddf765",
   "metadata": {},
   "source": [
    "## Removing Duplicate Values"
   ]
  },
  {
   "cell_type": "code",
   "execution_count": 7,
   "id": "7ce0ee98-16b1-4f70-8a67-59463a623d99",
   "metadata": {},
   "outputs": [
    {
     "name": "stdout",
     "output_type": "stream",
     "text": [
      "0\n"
     ]
    }
   ],
   "source": [
    "duplicated_rows = df.duplicated()\n",
    "print(duplicated_rows.sum())\n",
    "df.drop_duplicates(inplace = True)"
   ]
  },
  {
   "cell_type": "code",
   "execution_count": 8,
   "id": "e78d2c3c-9d05-4d81-9719-f1ce34190bc8",
   "metadata": {},
   "outputs": [
    {
     "data": {
      "text/plain": [
       "(21613, 21)"
      ]
     },
     "execution_count": 8,
     "metadata": {},
     "output_type": "execute_result"
    }
   ],
   "source": [
    "df.shape"
   ]
  },
  {
   "cell_type": "markdown",
   "id": "146dae03-7980-410d-bf80-7149af4a5451",
   "metadata": {},
   "source": [
    "No duplicate values found."
   ]
  },
  {
   "cell_type": "markdown",
   "id": "cd2f24fe-52b9-4ba0-ab0d-23ef9fa8605d",
   "metadata": {},
   "source": [
    "## Handling missing values"
   ]
  },
  {
   "cell_type": "code",
   "execution_count": 9,
   "id": "07a551f0-dc63-4028-9ae0-843c36ee4004",
   "metadata": {},
   "outputs": [
    {
     "data": {
      "text/plain": [
       "ID                                               0\n",
       "Date House was Sold                              0\n",
       "Sale Price                                       4\n",
       "No of Bedrooms                                   0\n",
       "No of Bathrooms                                  4\n",
       "Flat Area (in Sqft)                              9\n",
       "Lot Area (in Sqft)                               9\n",
       "No of Floors                                     0\n",
       "Waterfront View                                  0\n",
       "No of Times Visited                          19489\n",
       "Condition of the House                           0\n",
       "Overall Grade                                    0\n",
       "Area of the House from Basement (in Sqft)        3\n",
       "Basement Area (in Sqft)                          0\n",
       "Age of House (in Years)                          0\n",
       "Renovated Year                                   0\n",
       "Zipcode                                          1\n",
       "Latitude                                         1\n",
       "Longitude                                        1\n",
       "Living Area after Renovation (in Sqft)           1\n",
       "Lot Area after Renovation (in Sqft)              0\n",
       "dtype: int64"
      ]
     },
     "execution_count": 9,
     "metadata": {},
     "output_type": "execute_result"
    }
   ],
   "source": [
    "df.isna().sum()"
   ]
  },
  {
   "cell_type": "code",
   "execution_count": 10,
   "id": "8b5829ba-027b-4f5a-a8ef-3c47bbf84cf1",
   "metadata": {},
   "outputs": [
    {
     "data": {
      "text/plain": [
       "<Axes: >"
      ]
     },
     "execution_count": 10,
     "metadata": {},
     "output_type": "execute_result"
    },
    {
     "data": {
      "image/png": "[encoded data removed]",
      "text/plain": [
       "<Figure size 640x480 with 2 Axes>"
      ]
     },
     "metadata": {},
     "output_type": "display_data"
    }
   ],
   "source": [
    "sns.heatmap(df.isna())"
   ]
  },
  {
   "cell_type": "code",
   "execution_count": 11,
   "id": "3fe2854c-0cd8-4d62-8346-084f858587f0",
   "metadata": {},
   "outputs": [
    {
     "data": {
      "text/plain": [
       "Index(['ID', 'Date House was Sold', 'Sale Price', 'No of Bedrooms',\n",
       "       'No of Bathrooms', 'Flat Area (in Sqft)', 'Lot Area (in Sqft)',\n",
       "       'No of Floors', 'Waterfront View', 'Condition of the House',\n",
       "       'Overall Grade', 'Area of the House from Basement (in Sqft)',\n",
       "       'Basement Area (in Sqft)', 'Age of House (in Years)', 'Renovated Year',\n",
       "       'Zipcode', 'Latitude', 'Longitude',\n",
       "       'Living Area after Renovation (in Sqft)',\n",
       "       'Lot Area after Renovation (in Sqft)'],\n",
       "      dtype='object')"
      ]
     },
     "execution_count": 11,
     "metadata": {},
     "output_type": "execute_result"
    }
   ],
   "source": [
    "#dropping column 'No of Times Visited' because of large number of null values\n",
    "df.rename(columns = {\"No of Times Visited\":\"visited\"},inplace = True)\n",
    "df.drop(columns = [\"visited\"],inplace = True)\n",
    "df.columns"
   ]
  },
  {
   "cell_type": "code",
   "execution_count": 12,
   "id": "bc03e480-b826-487e-b4e5-ab6d992094b0",
   "metadata": {},
   "outputs": [
    {
     "data": {
      "text/plain": [
       "<Axes: >"
      ]
     },
     "execution_count": 12,
     "metadata": {},
     "output_type": "execute_result"
    },
    {
     "data": {
      "image/png": "[encoded data removed]",
      "text/plain": [
       "<Figure size 640x480 with 2 Axes>"
      ]
     },
     "metadata": {},
     "output_type": "display_data"
    }
   ],
   "source": [
    "sns.heatmap(df.isna())"
   ]
  },
  {
   "cell_type": "code",
   "execution_count": 13,
   "id": "848917c8-7a78-406f-a1bb-59cbc05db4d2",
   "metadata": {},
   "outputs": [],
   "source": [
    "#dropping  rows having \n",
    "#Zipcode                                          1\n",
    "#Latitude                                         1\n",
    "#Longitude                                        1\n",
    "df.dropna(subset=['Zipcode', 'Latitude','Longitude'],axis = 0, inplace=True)"
   ]
  },
  {
   "cell_type": "code",
   "execution_count": 14,
   "id": "9cdb5997-88ba-4c8f-a96c-056e3d7970d2",
   "metadata": {},
   "outputs": [],
   "source": [
    "#filling living area after renovation with average value\n",
    "livingarea_mean = df['Living Area after Renovation (in Sqft)'].mean()\n",
    "df.loc[:, 'Living Area after Renovation (in Sqft)'] = df['Living Area after Renovation (in Sqft)'].replace(np.nan, livingarea_mean)"
   ]
  },
  {
   "cell_type": "code",
   "execution_count": 15,
   "id": "5d9a3f71-2b50-459b-bbd2-e49b4da45bee",
   "metadata": {},
   "outputs": [
    {
     "data": {
      "text/plain": [
       "ID                                           0\n",
       "Date House was Sold                          0\n",
       "Sale Price                                   4\n",
       "No of Bedrooms                               0\n",
       "No of Bathrooms                              4\n",
       "Flat Area (in Sqft)                          9\n",
       "Lot Area (in Sqft)                           9\n",
       "No of Floors                                 0\n",
       "Waterfront View                              0\n",
       "Condition of the House                       0\n",
       "Overall Grade                                0\n",
       "Area of the House from Basement (in Sqft)    3\n",
       "Basement Area (in Sqft)                      0\n",
       "Age of House (in Years)                      0\n",
       "Renovated Year                               0\n",
       "Zipcode                                      0\n",
       "Latitude                                     0\n",
       "Longitude                                    0\n",
       "Living Area after Renovation (in Sqft)       0\n",
       "Lot Area after Renovation (in Sqft)          0\n",
       "dtype: int64"
      ]
     },
     "execution_count": 15,
     "metadata": {},
     "output_type": "execute_result"
    }
   ],
   "source": [
    "df.isna().sum()"
   ]
  },
  {
   "cell_type": "code",
   "execution_count": 16,
   "id": "4dc34178-2d2c-4e53-b292-2b6c3e45c616",
   "metadata": {},
   "outputs": [],
   "source": [
    "# Replace missing values in flat area and lot area with the mean of the group (based on 'No of Bedrooms')\n",
    "df['Flat Area (in Sqft)'] = df.groupby('No of Bedrooms')['Flat Area (in Sqft)'].transform(lambda x: x.fillna(x.mean()))\n",
    "df['Lot Area (in Sqft)'] = df.groupby('No of Bedrooms')['Lot Area (in Sqft)'].transform(lambda x: x.fillna(x.mean()))"
   ]
  },
  {
   "cell_type": "code",
   "execution_count": 17,
   "id": "af61c213-b563-44b7-bf22-84f1611521c0",
   "metadata": {},
   "outputs": [],
   "source": [
    "# Replace missing values in no of bathrooms with the mean of the  (based on 'No of Bedrooms')\n",
    "df['No of Bathrooms'] = df.groupby('No of Bedrooms')['No of Bathrooms'].transform(lambda x: x.fillna(x.mean()))"
   ]
  },
  {
   "cell_type": "code",
   "execution_count": 18,
   "id": "30cb7111-fa8f-4d64-898a-515ac275e3d5",
   "metadata": {},
   "outputs": [
    {
     "data": {
      "text/plain": [
       "ID                                           0\n",
       "Date House was Sold                          0\n",
       "Sale Price                                   4\n",
       "No of Bedrooms                               0\n",
       "No of Bathrooms                              0\n",
       "Flat Area (in Sqft)                          0\n",
       "Lot Area (in Sqft)                           0\n",
       "No of Floors                                 0\n",
       "Waterfront View                              0\n",
       "Condition of the House                       0\n",
       "Overall Grade                                0\n",
       "Area of the House from Basement (in Sqft)    3\n",
       "Basement Area (in Sqft)                      0\n",
       "Age of House (in Years)                      0\n",
       "Renovated Year                               0\n",
       "Zipcode                                      0\n",
       "Latitude                                     0\n",
       "Longitude                                    0\n",
       "Living Area after Renovation (in Sqft)       0\n",
       "Lot Area after Renovation (in Sqft)          0\n",
       "dtype: int64"
      ]
     },
     "execution_count": 18,
     "metadata": {},
     "output_type": "execute_result"
    }
   ],
   "source": [
    "df.isna().sum()"
   ]
  },
  {
   "cell_type": "code",
   "execution_count": 19,
   "id": "d43dca6a-bfc3-4de7-8c81-1f2a1a587ef1",
   "metadata": {},
   "outputs": [],
   "source": [
    "#filling sale_price with average value\n",
    "saleprice_mean = df['Sale Price'].mean()\n",
    "df.loc[:, 'Sale Price'] = df['Sale Price'].replace(np.nan, saleprice_mean)\n",
    "#filling Area of the House from Basement (in Sqft) with average value\n",
    "Areabasement_mean = df['Area of the House from Basement (in Sqft)'].mean()\n",
    "df.loc[:, 'Area of the House from Basement (in Sqft)'] = df['Area of the House from Basement (in Sqft)'].replace(np.nan, livingarea_mean)"
   ]
  },
  {
   "cell_type": "code",
   "execution_count": 20,
   "id": "7797ee7e-6ff1-4d08-9a37-7670e4e3cfbc",
   "metadata": {},
   "outputs": [
    {
     "data": {
      "text/plain": [
       "ID                                           0\n",
       "Date House was Sold                          0\n",
       "Sale Price                                   0\n",
       "No of Bedrooms                               0\n",
       "No of Bathrooms                              0\n",
       "Flat Area (in Sqft)                          0\n",
       "Lot Area (in Sqft)                           0\n",
       "No of Floors                                 0\n",
       "Waterfront View                              0\n",
       "Condition of the House                       0\n",
       "Overall Grade                                0\n",
       "Area of the House from Basement (in Sqft)    0\n",
       "Basement Area (in Sqft)                      0\n",
       "Age of House (in Years)                      0\n",
       "Renovated Year                               0\n",
       "Zipcode                                      0\n",
       "Latitude                                     0\n",
       "Longitude                                    0\n",
       "Living Area after Renovation (in Sqft)       0\n",
       "Lot Area after Renovation (in Sqft)          0\n",
       "dtype: int64"
      ]
     },
     "execution_count": 20,
     "metadata": {},
     "output_type": "execute_result"
    }
   ],
   "source": [
    "df.isna().sum()"
   ]
  },
  {
   "cell_type": "code",
   "execution_count": 21,
   "id": "49e336ce-5979-4889-85d6-12dace272158",
   "metadata": {},
   "outputs": [
    {
     "data": {
      "text/plain": [
       "Waterfront View\n",
       "No                 21447\n",
       "Yes                  163\n",
       "Name: count, dtype: int64"
      ]
     },
     "execution_count": 21,
     "metadata": {},
     "output_type": "execute_result"
    }
   ],
   "source": [
    "# checking of there are unwanted values in categorical columns\n",
    "df[['Waterfront View']].value_counts()"
   ]
  },
  {
   "cell_type": "code",
   "execution_count": 22,
   "id": "25099ec9-6044-4390-9ae6-729d3838edd7",
   "metadata": {},
   "outputs": [
    {
     "data": {
      "text/plain": [
       "Condition of the House\n",
       "Fair                      14029\n",
       "Good                       5678\n",
       "Excellent                  1701\n",
       "Okay                        172\n",
       "Bad                          30\n",
       "Name: count, dtype: int64"
      ]
     },
     "execution_count": 22,
     "metadata": {},
     "output_type": "execute_result"
    }
   ],
   "source": [
    "df[['Condition of the House']].value_counts()"
   ]
  },
  {
   "cell_type": "code",
   "execution_count": 23,
   "id": "04f07130-d5bb-4bed-b58f-6c7c56f24dd5",
   "metadata": {},
   "outputs": [],
   "source": [
    "#dropping id column cuz it in not useful while building models\n",
    "df.drop(columns = ['ID'],inplace = True)"
   ]
  },
  {
   "cell_type": "code",
   "execution_count": 24,
   "id": "ada93d39-d333-4055-a241-2ab17e8ad9ed",
   "metadata": {},
   "outputs": [],
   "source": [
    "#changing Date House was Sold column to datetime format from string format\n",
    "df['Date House was Sold'] = pd.to_datetime(df['Date House was Sold'], format = 'mixed')"
   ]
  },
  {
   "cell_type": "code",
   "execution_count": 25,
   "id": "62237ba6-8824-4388-9a78-5e06b851c57d",
   "metadata": {},
   "outputs": [
    {
     "name": "stdout",
     "output_type": "stream",
     "text": [
      "<class 'pandas.core.frame.DataFrame'>\n",
      "Index: 21610 entries, 0 to 21612\n",
      "Data columns (total 19 columns):\n",
      " #   Column                                     Non-Null Count  Dtype         \n",
      "---  ------                                     --------------  -----         \n",
      " 0   Date House was Sold                        21610 non-null  datetime64[ns]\n",
      " 1   Sale Price                                 21610 non-null  float64       \n",
      " 2   No of Bedrooms                             21610 non-null  int64         \n",
      " 3   No of Bathrooms                            21610 non-null  float64       \n",
      " 4   Flat Area (in Sqft)                        21610 non-null  float64       \n",
      " 5   Lot Area (in Sqft)                         21610 non-null  float64       \n",
      " 6   No of Floors                               21610 non-null  float64       \n",
      " 7   Waterfront View                            21610 non-null  object        \n",
      " 8   Condition of the House                     21610 non-null  object        \n",
      " 9   Overall Grade                              21610 non-null  int64         \n",
      " 10  Area of the House from Basement (in Sqft)  21610 non-null  float64       \n",
      " 11  Basement Area (in Sqft)                    21610 non-null  int64         \n",
      " 12  Age of House (in Years)                    21610 non-null  int64         \n",
      " 13  Renovated Year                             21610 non-null  int64         \n",
      " 14  Zipcode                                    21610 non-null  float64       \n",
      " 15  Latitude                                   21610 non-null  float64       \n",
      " 16  Longitude                                  21610 non-null  float64       \n",
      " 17  Living Area after Renovation (in Sqft)     21610 non-null  float64       \n",
      " 18  Lot Area after Renovation (in Sqft)        21610 non-null  int64         \n",
      "dtypes: datetime64[ns](1), float64(10), int64(6), object(2)\n",
      "memory usage: 3.3+ MB\n"
     ]
    }
   ],
   "source": [
    "df.info()"
   ]
  },
  {
   "cell_type": "code",
   "execution_count": 26,
   "id": "edba666f-9b0c-41bc-812b-374bf4d135b5",
   "metadata": {},
   "outputs": [
    {
     "data": {
      "text/plain": [
       "(21610, 19)"
      ]
     },
     "execution_count": 26,
     "metadata": {},
     "output_type": "execute_result"
    }
   ],
   "source": [
    "df.shape"
   ]
  },
  {
   "cell_type": "code",
   "execution_count": 27,
   "id": "737e1c33-b617-47f3-b1c5-8ea74a086546",
   "metadata": {},
   "outputs": [
    {
     "data": {
      "text/plain": [
       "Index(['Date House was Sold', 'Sale Price', 'No of Bedrooms',\n",
       "       'No of Bathrooms', 'Flat Area (in Sqft)', 'Lot Area (in Sqft)',\n",
       "       'No of Floors', 'Waterfront View', 'Condition of the House',\n",
       "       'Overall Grade', 'Area of the House from Basement (in Sqft)',\n",
       "       'Basement Area (in Sqft)', 'Age of House (in Years)', 'Renovated Year',\n",
       "       'Zipcode', 'Latitude', 'Longitude',\n",
       "       'Living Area after Renovation (in Sqft)',\n",
       "       'Lot Area after Renovation (in Sqft)'],\n",
       "      dtype='object')"
      ]
     },
     "execution_count": 27,
     "metadata": {},
     "output_type": "execute_result"
    }
   ],
   "source": [
    "df.columns"
   ]
  },
  {
   "cell_type": "markdown",
   "id": "288d97b5-c4c0-4419-ae3a-77207a87c9a8",
   "metadata": {},
   "source": [
    "## Scaling Numerical Values\n",
    "Identify all numerical columns (excluding the target variable SalePrice)."
   ]
  },
  {
   "cell_type": "code",
   "execution_count": 28,
   "id": "a1b86064-a43e-46bd-94bd-dd6fe0badb7e",
   "metadata": {},
   "outputs": [],
   "source": [
    "#splitting in \n",
    "num_df = df.select_dtypes(include = 'number')\n",
    "cat_df = df.select_dtypes(include = 'object_')\n",
    "num_df.drop(columns= ['Sale Price'],inplace = True)"
   ]
  },
  {
   "cell_type": "code",
   "execution_count": 29,
   "id": "c625bee4-dea2-4938-be2d-514dc63c85b2",
   "metadata": {},
   "outputs": [
    {
     "name": "stdout",
     "output_type": "stream",
     "text": [
      "Index(['No of Bedrooms', 'No of Bathrooms', 'Flat Area (in Sqft)',\n",
      "       'Lot Area (in Sqft)', 'No of Floors', 'Overall Grade',\n",
      "       'Area of the House from Basement (in Sqft)', 'Basement Area (in Sqft)',\n",
      "       'Age of House (in Years)', 'Renovated Year', 'Zipcode', 'Latitude',\n",
      "       'Longitude', 'Living Area after Renovation (in Sqft)',\n",
      "       'Lot Area after Renovation (in Sqft)'],\n",
      "      dtype='object')\n",
      "___________________________\n",
      "___________________________\n",
      "Index(['Waterfront View', 'Condition of the House'], dtype='object')\n"
     ]
    }
   ],
   "source": [
    "print(num_df.columns)\n",
    "print(\"___________________________\")\n",
    "print(\"___________________________\")\n",
    "print(cat_df.columns)"
   ]
  },
  {
   "cell_type": "code",
   "execution_count": 30,
   "id": "e793c558-57a9-4854-bea6-2fd1248dd36d",
   "metadata": {},
   "outputs": [
    {
     "name": "stdout",
     "output_type": "stream",
     "text": [
      "\n",
      "Scaled DataFrame:\n",
      "   No of Bedrooms  No of Bathrooms  Flat Area (in Sqft)  Lot Area (in Sqft)  \\\n",
      "0        0.090909          0.12500             0.067170            0.003108   \n",
      "1        0.090909          0.28125             0.172075            0.004072   \n",
      "2        0.060606          0.12500             0.036226            0.005743   \n",
      "3        0.121212          0.37500             0.126038            0.002714   \n",
      "4        0.090909          0.25000             0.104906            0.004579   \n",
      "\n",
      "   No of Floors  Overall Grade  Area of the House from Basement (in Sqft)  \\\n",
      "0           0.0       0.666667                                   0.097588   \n",
      "1           0.4       0.666667                                   0.206140   \n",
      "2           0.0       0.555556                                   0.052632   \n",
      "3           0.0       0.666667                                   0.083333   \n",
      "4           0.0       0.777778                                   0.152412   \n",
      "\n",
      "   Basement Area (in Sqft)  Age of House (in Years)  Renovated Year   Zipcode  \\\n",
      "0                 0.000000                 0.521739        0.000000  0.893939   \n",
      "1                 0.082988                 0.556522        0.988089  0.626263   \n",
      "2                 0.000000                 0.713043        0.000000  0.136364   \n",
      "3                 0.188797                 0.434783        0.000000  0.681818   \n",
      "4                 0.000000                 0.243478        0.000000  0.368687   \n",
      "\n",
      "   Latitude  Longitude  Living Area after Renovation (in Sqft)  \\\n",
      "0  0.571498   0.217608                                0.161934   \n",
      "1  0.908959   0.166113                                0.222165   \n",
      "2  0.936143   0.237542                                0.399415   \n",
      "3  0.586939   0.104651                                0.165376   \n",
      "4  0.741354   0.393688                                0.241094   \n",
      "\n",
      "   Lot Area after Renovation (in Sqft)  \n",
      "0                             0.005742  \n",
      "1                             0.008027  \n",
      "2                             0.008513  \n",
      "3                             0.004996  \n",
      "4                             0.007871  \n"
     ]
    }
   ],
   "source": [
    "scaler = MinMaxScaler()\n",
    "scaled_data = scaler.fit_transform(num_df)\n",
    "num_df_scaled = pd.DataFrame(scaled_data, columns=num_df.columns)\n",
    "print(\"\\nScaled DataFrame:\")\n",
    "print(num_df_scaled.head())"
   ]
  },
  {
   "cell_type": "code",
   "execution_count": 31,
   "id": "171393ff-55e6-4f7f-a162-ee70f3db701c",
   "metadata": {},
   "outputs": [
    {
     "data": {
      "text/plain": [
       "(21610, 15)"
      ]
     },
     "execution_count": 31,
     "metadata": {},
     "output_type": "execute_result"
    }
   ],
   "source": [
    "num_df_scaled.shape"
   ]
  },
  {
   "cell_type": "markdown",
   "id": "e54276bb-e8de-4401-b1e9-cdcb7044210f",
   "metadata": {},
   "source": [
    "## Encoding categorical variables"
   ]
  },
  {
   "cell_type": "code",
   "execution_count": 32,
   "id": "16797933-5c79-4655-a262-d789fc2ed965",
   "metadata": {},
   "outputs": [],
   "source": [
    "#Nominal values\n",
    "#1.Waterfront View\n",
    "# Initialize OneHotEncoder\n",
    "encoder1 = OneHotEncoder(handle_unknown = 'ignore',sparse_output = False)\n",
    "encoded_data1 = encoder1.fit_transform(cat_df[['Waterfront View']])\n",
    "encoded_df1 = pd.DataFrame(encoded_data1, columns=encoder1.get_feature_names_out(['Waterfront View']))\n",
    "encoded_df1.index = cat_df.index\n",
    "cat_df = pd.concat([cat_df, encoded_df1], axis=1)"
   ]
  },
  {
   "cell_type": "code",
   "execution_count": 33,
   "id": "a26a82eb-4889-4ec9-8799-0e8e7e54acfa",
   "metadata": {},
   "outputs": [],
   "source": [
    "#Ordinal values\n",
    "#2. Condition of the House \n",
    "# Initialize Label Encoder\n",
    "encoder2 = LabelEncoder()\n",
    "encoded_data2 = encoder2.fit_transform(cat_df['Condition of the House'])\n",
    "encoded_df2 = pd.DataFrame(encoded_data2,columns = ['Encoded_Condition'])\n",
    "encoded_df2.index = cat_df.index\n",
    "cat_df = pd.concat([cat_df, encoded_df2], axis=1)"
   ]
  },
  {
   "cell_type": "code",
   "execution_count": 34,
   "id": "61ac8cdb-1593-4f99-8480-4f3f9d01e9c1",
   "metadata": {},
   "outputs": [
    {
     "name": "stdout",
     "output_type": "stream",
     "text": [
      "(21610, 5)\n"
     ]
    },
    {
     "data": {
      "text/plain": [
       "Waterfront View           0\n",
       "Condition of the House    0\n",
       "Waterfront View_No        0\n",
       "Waterfront View_Yes       0\n",
       "Encoded_Condition         0\n",
       "dtype: int64"
      ]
     },
     "execution_count": 34,
     "metadata": {},
     "output_type": "execute_result"
    }
   ],
   "source": [
    "print(cat_df.shape)\n",
    "cat_df.isna().sum()"
   ]
  },
  {
   "cell_type": "code",
   "execution_count": 35,
   "id": "d4b04c43-1d03-46f2-8d32-6f7333ca4589",
   "metadata": {},
   "outputs": [
    {
     "data": {
      "text/plain": [
       "Index(['Waterfront View', 'Condition of the House', 'Waterfront View_No',\n",
       "       'Waterfront View_Yes', 'Encoded_Condition'],\n",
       "      dtype='object')"
      ]
     },
     "execution_count": 35,
     "metadata": {},
     "output_type": "execute_result"
    }
   ],
   "source": [
    "cat_df.columns"
   ]
  },
  {
   "cell_type": "code",
   "execution_count": 36,
   "id": "af437518-6ae6-4298-9b7e-2d22a55b75b8",
   "metadata": {},
   "outputs": [
    {
     "name": "stdout",
     "output_type": "stream",
     "text": [
      "   Waterfront View_No  Waterfront View_Yes  Encoded_Condition\n",
      "0                 1.0                  0.0                  2\n",
      "1                 1.0                  0.0                  2\n",
      "2                 1.0                  0.0                  2\n",
      "3                 1.0                  0.0                  1\n",
      "4                 1.0                  0.0                  2\n",
      "(21610, 3)\n"
     ]
    }
   ],
   "source": [
    "#dropping the categorical columns\n",
    "cat_df_encoded = cat_df[['Waterfront View_No','Waterfront View_Yes', 'Encoded_Condition']]\n",
    "print(cat_df_encoded.head())\n",
    "print(cat_df_encoded.shape)"
   ]
  },
  {
   "cell_type": "markdown",
   "id": "0c8bf44d-0a7b-4fdf-84ab-f894b73a7b0c",
   "metadata": {},
   "source": [
    "## Outlier Removal"
   ]
  },
  {
   "cell_type": "code",
   "execution_count": 37,
   "id": "7070eaa6-c523-40e7-bfdd-df8111464eea",
   "metadata": {},
   "outputs": [
    {
     "data": {
      "image/png": "[encoded data removed]",
      "text/plain": [
       "<Figure size 640x480 with 1 Axes>"
      ]
     },
     "metadata": {},
     "output_type": "display_data"
    }
   ],
   "source": [
    "plt.boxplot(num_df_scaled)\n",
    "plt.show()"
   ]
  },
  {
   "cell_type": "code",
   "execution_count": 38,
   "id": "fe62fc53-96d4-46ca-95f4-ebca1b070515",
   "metadata": {},
   "outputs": [],
   "source": [
    "def remove_outliers(df,column_name):\n",
    "    q1 = df[column_name].quantile(0.25)\n",
    "    q3 = df[column_name].quantile(0.75)\n",
    "    iqr = q3-q1\n",
    "    upper_bound = q3 + 1.5 * iqr\n",
    "    lower_bound = q1 - 1.5 * iqr\n",
    "    df[column_name] = df[column_name].clip(upper = upper_bound)\n",
    "    df[column_name] = df[column_name].clip(lower = lower_bound)\n",
    "    return df[column_name]"
   ]
  },
  {
   "cell_type": "code",
   "execution_count": 39,
   "id": "7c53e1d3-5311-4600-a1d3-fe7d822767d5",
   "metadata": {},
   "outputs": [],
   "source": [
    "num_cols = num_df_scaled.columns.tolist()\n",
    "for col in num_cols:\n",
    "    num_df_scaled[col] = remove_outliers(num_df_scaled,col)"
   ]
  },
  {
   "cell_type": "code",
   "execution_count": 40,
   "id": "3abed35e-c14d-4162-8e4a-72651ad8bd23",
   "metadata": {},
   "outputs": [
    {
     "data": {
      "image/png": "[encoded data removed]",
      "text/plain": [
       "<Figure size 640x480 with 1 Axes>"
      ]
     },
     "metadata": {},
     "output_type": "display_data"
    }
   ],
   "source": [
    "plt.boxplot(num_df_scaled)\n",
    "plt.show()"
   ]
  },
  {
   "cell_type": "code",
   "execution_count": 41,
   "id": "d7ae007f-51ee-41f1-9cb7-28806db0ae9e",
   "metadata": {},
   "outputs": [],
   "source": [
    "#combining the scaled and encoded dataframes into one\n",
    "num_df_scaled.index = cat_df_encoded.index\n",
    "df_enc_sc = pd.concat([num_df_scaled,cat_df_encoded,df['Sale Price']],axis = 1)"
   ]
  },
  {
   "cell_type": "code",
   "execution_count": 42,
   "id": "dc8617c5-a273-434b-8918-2e72929b2e0c",
   "metadata": {},
   "outputs": [
    {
     "data": {
      "text/plain": [
       "(21610, 19)"
      ]
     },
     "execution_count": 42,
     "metadata": {},
     "output_type": "execute_result"
    }
   ],
   "source": [
    "df_enc_sc.shape"
   ]
  },
  {
   "cell_type": "code",
   "execution_count": 43,
   "id": "761dd194-2c57-4f2a-8635-897c9dc6c5c8",
   "metadata": {},
   "outputs": [
    {
     "data": {
      "text/html": [
       "<div>\n",
       "<style scoped>\n",
       "    .dataframe tbody tr th:only-of-type {\n",
       "        vertical-align: middle;\n",
       "    }\n",
       "\n",
       "    .dataframe tbody tr th {\n",
       "        vertical-align: top;\n",
       "    }\n",
       "\n",
       "    .dataframe thead th {\n",
       "        text-align: right;\n",
       "    }\n",
       "</style>\n",
       "<table border=\"1\" class=\"dataframe\">\n",
       "  <thead>\n",
       "    <tr style=\"text-align: right;\">\n",
       "      <th></th>\n",
       "      <th>No of Bedrooms</th>\n",
       "      <th>No of Bathrooms</th>\n",
       "      <th>Flat Area (in Sqft)</th>\n",
       "      <th>Lot Area (in Sqft)</th>\n",
       "      <th>No of Floors</th>\n",
       "      <th>Overall Grade</th>\n",
       "      <th>Area of the House from Basement (in Sqft)</th>\n",
       "      <th>Basement Area (in Sqft)</th>\n",
       "      <th>Age of House (in Years)</th>\n",
       "      <th>Renovated Year</th>\n",
       "      <th>Zipcode</th>\n",
       "      <th>Latitude</th>\n",
       "      <th>Longitude</th>\n",
       "      <th>Living Area after Renovation (in Sqft)</th>\n",
       "      <th>Lot Area after Renovation (in Sqft)</th>\n",
       "      <th>Waterfront View_No</th>\n",
       "      <th>Waterfront View_Yes</th>\n",
       "      <th>Encoded_Condition</th>\n",
       "      <th>Sale Price</th>\n",
       "    </tr>\n",
       "  </thead>\n",
       "  <tbody>\n",
       "    <tr>\n",
       "      <th>0</th>\n",
       "      <td>0.090909</td>\n",
       "      <td>0.12500</td>\n",
       "      <td>0.067170</td>\n",
       "      <td>0.003108</td>\n",
       "      <td>0.0</td>\n",
       "      <td>0.666667</td>\n",
       "      <td>0.097588</td>\n",
       "      <td>0.000000</td>\n",
       "      <td>0.521739</td>\n",
       "      <td>0.0</td>\n",
       "      <td>0.893939</td>\n",
       "      <td>0.571498</td>\n",
       "      <td>0.217608</td>\n",
       "      <td>0.161934</td>\n",
       "      <td>0.005742</td>\n",
       "      <td>1.0</td>\n",
       "      <td>0.0</td>\n",
       "      <td>2</td>\n",
       "      <td>221900.0</td>\n",
       "    </tr>\n",
       "    <tr>\n",
       "      <th>1</th>\n",
       "      <td>0.090909</td>\n",
       "      <td>0.28125</td>\n",
       "      <td>0.172075</td>\n",
       "      <td>0.004072</td>\n",
       "      <td>0.4</td>\n",
       "      <td>0.666667</td>\n",
       "      <td>0.206140</td>\n",
       "      <td>0.082988</td>\n",
       "      <td>0.556522</td>\n",
       "      <td>0.0</td>\n",
       "      <td>0.626263</td>\n",
       "      <td>0.908959</td>\n",
       "      <td>0.166113</td>\n",
       "      <td>0.222165</td>\n",
       "      <td>0.008027</td>\n",
       "      <td>1.0</td>\n",
       "      <td>0.0</td>\n",
       "      <td>2</td>\n",
       "      <td>538000.0</td>\n",
       "    </tr>\n",
       "    <tr>\n",
       "      <th>2</th>\n",
       "      <td>0.060606</td>\n",
       "      <td>0.12500</td>\n",
       "      <td>0.036226</td>\n",
       "      <td>0.005743</td>\n",
       "      <td>0.0</td>\n",
       "      <td>0.555556</td>\n",
       "      <td>0.052632</td>\n",
       "      <td>0.000000</td>\n",
       "      <td>0.713043</td>\n",
       "      <td>0.0</td>\n",
       "      <td>0.136364</td>\n",
       "      <td>0.936143</td>\n",
       "      <td>0.237542</td>\n",
       "      <td>0.399415</td>\n",
       "      <td>0.008513</td>\n",
       "      <td>1.0</td>\n",
       "      <td>0.0</td>\n",
       "      <td>2</td>\n",
       "      <td>180000.0</td>\n",
       "    </tr>\n",
       "    <tr>\n",
       "      <th>3</th>\n",
       "      <td>0.121212</td>\n",
       "      <td>0.37500</td>\n",
       "      <td>0.126038</td>\n",
       "      <td>0.002714</td>\n",
       "      <td>0.0</td>\n",
       "      <td>0.666667</td>\n",
       "      <td>0.083333</td>\n",
       "      <td>0.188797</td>\n",
       "      <td>0.434783</td>\n",
       "      <td>0.0</td>\n",
       "      <td>0.681818</td>\n",
       "      <td>0.586939</td>\n",
       "      <td>0.104651</td>\n",
       "      <td>0.165376</td>\n",
       "      <td>0.004996</td>\n",
       "      <td>1.0</td>\n",
       "      <td>0.0</td>\n",
       "      <td>1</td>\n",
       "      <td>604000.0</td>\n",
       "    </tr>\n",
       "    <tr>\n",
       "      <th>4</th>\n",
       "      <td>0.090909</td>\n",
       "      <td>0.25000</td>\n",
       "      <td>0.104906</td>\n",
       "      <td>0.004579</td>\n",
       "      <td>0.0</td>\n",
       "      <td>0.777778</td>\n",
       "      <td>0.152412</td>\n",
       "      <td>0.000000</td>\n",
       "      <td>0.243478</td>\n",
       "      <td>0.0</td>\n",
       "      <td>0.368687</td>\n",
       "      <td>0.741354</td>\n",
       "      <td>0.393688</td>\n",
       "      <td>0.241094</td>\n",
       "      <td>0.007871</td>\n",
       "      <td>1.0</td>\n",
       "      <td>0.0</td>\n",
       "      <td>2</td>\n",
       "      <td>510000.0</td>\n",
       "    </tr>\n",
       "  </tbody>\n",
       "</table>\n",
       "</div>"
      ],
      "text/plain": [
       "   No of Bedrooms  No of Bathrooms  Flat Area (in Sqft)  Lot Area (in Sqft)  \\\n",
       "0        0.090909          0.12500             0.067170            0.003108   \n",
       "1        0.090909          0.28125             0.172075            0.004072   \n",
       "2        0.060606          0.12500             0.036226            0.005743   \n",
       "3        0.121212          0.37500             0.126038            0.002714   \n",
       "4        0.090909          0.25000             0.104906            0.004579   \n",
       "\n",
       "   No of Floors  Overall Grade  Area of the House from Basement (in Sqft)  \\\n",
       "0           0.0       0.666667                                   0.097588   \n",
       "1           0.4       0.666667                                   0.206140   \n",
       "2           0.0       0.555556                                   0.052632   \n",
       "3           0.0       0.666667                                   0.083333   \n",
       "4           0.0       0.777778                                   0.152412   \n",
       "\n",
       "   Basement Area (in Sqft)  Age of House (in Years)  Renovated Year   Zipcode  \\\n",
       "0                 0.000000                 0.521739             0.0  0.893939   \n",
       "1                 0.082988                 0.556522             0.0  0.626263   \n",
       "2                 0.000000                 0.713043             0.0  0.136364   \n",
       "3                 0.188797                 0.434783             0.0  0.681818   \n",
       "4                 0.000000                 0.243478             0.0  0.368687   \n",
       "\n",
       "   Latitude  Longitude  Living Area after Renovation (in Sqft)  \\\n",
       "0  0.571498   0.217608                                0.161934   \n",
       "1  0.908959   0.166113                                0.222165   \n",
       "2  0.936143   0.237542                                0.399415   \n",
       "3  0.586939   0.104651                                0.165376   \n",
       "4  0.741354   0.393688                                0.241094   \n",
       "\n",
       "   Lot Area after Renovation (in Sqft)  Waterfront View_No  \\\n",
       "0                             0.005742                 1.0   \n",
       "1                             0.008027                 1.0   \n",
       "2                             0.008513                 1.0   \n",
       "3                             0.004996                 1.0   \n",
       "4                             0.007871                 1.0   \n",
       "\n",
       "   Waterfront View_Yes  Encoded_Condition  Sale Price  \n",
       "0                  0.0                  2    221900.0  \n",
       "1                  0.0                  2    538000.0  \n",
       "2                  0.0                  2    180000.0  \n",
       "3                  0.0                  1    604000.0  \n",
       "4                  0.0                  2    510000.0  "
      ]
     },
     "execution_count": 43,
     "metadata": {},
     "output_type": "execute_result"
    }
   ],
   "source": [
    "df_enc_sc.head()"
   ]
  },
  {
   "cell_type": "markdown",
   "id": "61f82be3-b350-451d-8d19-45adcf4e5cbc",
   "metadata": {},
   "source": [
    "## Train_Test Split"
   ]
  },
  {
   "cell_type": "code",
   "execution_count": 44,
   "id": "4a28cc7a-01c5-4db2-b407-2288fcfd51af",
   "metadata": {},
   "outputs": [],
   "source": [
    "X = df_enc_sc.drop(columns = ['Sale Price'])\n",
    "y = df_enc_sc['Sale Price']"
   ]
  },
  {
   "cell_type": "code",
   "execution_count": 45,
   "id": "481cfee2-844d-4cf9-ab08-c0250ee82386",
   "metadata": {},
   "outputs": [],
   "source": [
    "#Split the dataset into training (80%) and testing (20%) sets\n",
    "X_train,X_test,y_train,y_test = train_test_split(X,y,test_size = 0.2)"
   ]
  },
  {
   "cell_type": "code",
   "execution_count": 46,
   "id": "4f2dde6f-0f30-4341-9fdf-2563a9b16a99",
   "metadata": {},
   "outputs": [
    {
     "name": "stdout",
     "output_type": "stream",
     "text": [
      "Training Features Shape: (17288, 18)\n",
      "Testing Features Shape: (4322, 18)\n",
      "Training Target Shape: (17288,)\n",
      "Testing Target Shape: (4322,)\n"
     ]
    }
   ],
   "source": [
    "print(\"Training Features Shape:\", X_train.shape)\n",
    "print(\"Testing Features Shape:\", X_test.shape)\n",
    "print(\"Training Target Shape:\", y_train.shape)\n",
    "print(\"Testing Target Shape:\", y_test.shape)"
   ]
  }
 ],
 "metadata": {
  "kernelspec": {
   "display_name": "Python 3 (ipykernel)",
   "language": "python",
   "name": "python3"
  },
  "language_info": {
   "codemirror_mode": {
    "name": "ipython",
    "version": 3
   },
   "file_extension": ".py",
   "mimetype": "text/x-python",
   "name": "python",
   "nbconvert_exporter": "python",
   "pygments_lexer": "ipython3",
   "version": "3.13.2"
  }
 },
 "nbformat": 4,
 "nbformat_minor": 5
}
